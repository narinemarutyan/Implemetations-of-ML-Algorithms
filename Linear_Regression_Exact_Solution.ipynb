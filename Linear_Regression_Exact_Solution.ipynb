{
 "cells": [
  {
   "cell_type": "code",
   "execution_count": 1,
   "id": "e0a39524",
   "metadata": {},
   "outputs": [],
   "source": [
    "def fit_1d_linear_regression(data_vector, response_vector):\n",
    "\n",
    "    data_vector = np.array(data_vector)\n",
    "    response_vector = np.array(response_vector)\n",
    "    n = data_vector.shape[0]  # number of samples\n",
    "    \n",
    "    X = data_vector\n",
    "    if(data_vector.ndim == 1): \n",
    "        X = data_vector.reshape(-1,1)\n",
    "    X = np.concatenate((np.ones((n, 1)), X), axis=1)\n",
    "    \n",
    "    XtX_inverse = np.linalg.inv(np.dot(X.T, X))  # pseudo inverse for non-invertible\n",
    "    \n",
    "    return np.dot(XtX_inverse, np.dot(X.T, response_vector))"
   ]
  }
 ],
 "metadata": {
  "kernelspec": {
   "display_name": "Python 3 (ipykernel)",
   "language": "python",
   "name": "python3"
  },
  "language_info": {
   "codemirror_mode": {
    "name": "ipython",
    "version": 3
   },
   "file_extension": ".py",
   "mimetype": "text/x-python",
   "name": "python",
   "nbconvert_exporter": "python",
   "pygments_lexer": "ipython3",
   "version": "3.10.6"
  }
 },
 "nbformat": 4,
 "nbformat_minor": 5
}
