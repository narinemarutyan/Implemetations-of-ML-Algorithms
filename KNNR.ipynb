{
 "cells": [
  {
   "cell_type": "markdown",
   "metadata": {},
   "source": [
    "# Implementing KNN for Regression"
   ]
  },
  {
   "cell_type": "code",
   "execution_count": 1,
   "metadata": {},
   "outputs": [],
   "source": [
    "import numpy as np\n",
    "from sklearn.metrics import r2_score\n",
    "\n",
    "class KNN_Regressor:\n",
    "    def __init__(self, n_neighbors = 3, method='euclidean', weights='uniform'):\n",
    "        self.n_neighbors = n_neighbors\n",
    "        \n",
    "    def fit(self, X_train, y_train):\n",
    "        self.X_train = X_train\n",
    "        self.y_train = y_train\n",
    "        \n",
    "    def distance(self, x1,  x2):\n",
    "        return np.sqrt(np.linalg.norm(x1-x2, axis=1))\n",
    "    \n",
    "    def predict(self, X_test):\n",
    "        y_pred = []\n",
    "        for x in X_test:\n",
    "            distances = self.distance(x, self.X_train)\n",
    "            indices = np.argsort(distances)[:self.n_neighbors]\n",
    "            y_pred.append(np.mean(self.y_train[indices]))\n",
    "        return np.array(y_pred)\n",
    "    \n",
    "    def score(self, X_test, y_test):\n",
    "        return r2_score(y_test, self.predict(X_test))"
   ]
  }
 ],
 "metadata": {
  "kernelspec": {
   "display_name": "Python 3 (ipykernel)",
   "language": "python",
   "name": "python3"
  },
  "language_info": {
   "codemirror_mode": {
    "name": "ipython",
    "version": 3
   },
   "file_extension": ".py",
   "mimetype": "text/x-python",
   "name": "python",
   "nbconvert_exporter": "python",
   "pygments_lexer": "ipython3",
   "version": "3.10.6"
  }
 },
 "nbformat": 4,
 "nbformat_minor": 4
}
