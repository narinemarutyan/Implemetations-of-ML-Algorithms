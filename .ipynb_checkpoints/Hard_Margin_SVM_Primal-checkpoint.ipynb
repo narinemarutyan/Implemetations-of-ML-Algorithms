{
 "cells": [
  {
   "cell_type": "code",
   "execution_count": 1,
   "id": "2efd0720",
   "metadata": {},
   "outputs": [],
   "source": [
    "import numpy as np\n",
    "from scipy.optimize import minimize\n",
    "\n",
    "class SVM:\n",
    "    def __init__(self):\n",
    "        self.w = None\n",
    "        self.b = None\n",
    "    \n",
    "    def fit(self, X, y):\n",
    "        n = X.shape[0]\n",
    "        d = X.shape[1]\n",
    "        \n",
    "        def objective(x):\n",
    "            return np.dot(x[:-1], x[:-1])\n",
    "        \n",
    "        def constraint(x):\n",
    "            return y * (np.dot(X, x[:-1]) + x[-1]) - 1\n",
    "\n",
    "        w = np.zeros(d+1)\n",
    "        cons = {'type': 'ineq', 'fun': constraint}\n",
    "        res = minimize(objective, w, constraints=cons)\n",
    "\n",
    "        self.w = res.x[:-1]\n",
    "        self.b = res.x[-1] \n",
    "        \n",
    "    def predict(self, X):\n",
    "        return np.sign(np.dot(X, self.w) + self.b)\n",
    "    \n",
    "    def score(self, X, y):\n",
    "        return (self.predict(X)==y).sum() / len(y)"
   ]
  }
 ],
 "metadata": {
  "kernelspec": {
   "display_name": "Python 3 (ipykernel)",
   "language": "python",
   "name": "python3"
  },
  "language_info": {
   "codemirror_mode": {
    "name": "ipython",
    "version": 3
   },
   "file_extension": ".py",
   "mimetype": "text/x-python",
   "name": "python",
   "nbconvert_exporter": "python",
   "pygments_lexer": "ipython3",
   "version": "3.10.6"
  }
 },
 "nbformat": 4,
 "nbformat_minor": 5
}
