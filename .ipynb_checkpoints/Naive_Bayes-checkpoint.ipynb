{
 "cells": [
  {
   "cell_type": "code",
   "execution_count": 1,
   "id": "d84f7316",
   "metadata": {},
   "outputs": [],
   "source": [
    "import numpy as np\n",
    "from scipy.stats import norm\n",
    "\n",
    "class NaiveBayes:\n",
    "    def __init__(self):\n",
    "        self.means = []\n",
    "        self.variances = []\n",
    "        self.priors = []\n",
    "        \n",
    "    def fit(self, X, y):\n",
    "        for c in np.unique(y):\n",
    "            X_c = X[y==c]\n",
    "            self.means.append(X_c.mean(axis=0))\n",
    "            self.variances.append(X_c.var(axis=0))\n",
    "            self.priors.append(len(X_c)/len(X))\n",
    "            \n",
    "        self.means = np.array(self.means)\n",
    "        self.variances = np.array(self.variances)\n",
    "        self.priors = np.array(self.priors)\n",
    "\n",
    "    def predict(self, X):\n",
    "        y_pred = []\n",
    "        for x in X:\n",
    "            y = self.pdf(x, self.means, self.variances)\n",
    "            y = np.log(y).sum(axis=1)\n",
    "            y += np.log(self.priors)\n",
    "            y_pred.append(np.argmax(y))\n",
    "        return np.array(y_pred)\n",
    "\n",
    "    def score(self, X, y):\n",
    "        return (self.predict(X)==y).sum() / len(y)\n",
    "        \n",
    "    def pdf(self, x, mean, var):\n",
    "        return norm.pdf(x, mean, var)"
   ]
  }
 ],
 "metadata": {
  "kernelspec": {
   "display_name": "Python 3 (ipykernel)",
   "language": "python",
   "name": "python3"
  },
  "language_info": {
   "codemirror_mode": {
    "name": "ipython",
    "version": 3
   },
   "file_extension": ".py",
   "mimetype": "text/x-python",
   "name": "python",
   "nbconvert_exporter": "python",
   "pygments_lexer": "ipython3",
   "version": "3.10.6"
  }
 },
 "nbformat": 4,
 "nbformat_minor": 5
}
