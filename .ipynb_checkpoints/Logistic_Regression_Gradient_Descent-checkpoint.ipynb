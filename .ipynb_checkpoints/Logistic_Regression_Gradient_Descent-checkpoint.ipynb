{
 "cells": [
  {
   "cell_type": "code",
   "execution_count": 1,
   "id": "f5da662a",
   "metadata": {},
   "outputs": [],
   "source": [
    "class BinaryLogisticRegression:\n",
    "    def __init__(self, learning_rate=0.1, n_iters=1000):\n",
    "        self.learning_rate = learning_rate\n",
    "        self.n_iters = n_iters\n",
    "        self.weights = None\n",
    "  \n",
    "    def fit(self, X, y):\n",
    "        \n",
    "        X = np.hstack((np.ones((X.shape[0], 1)), X))  # Adding a column of 1s for the intercept\n",
    "        self.weights = np.zeros((X.shape[1]))  # Setting the initial weights to 0\n",
    "\n",
    "        cost_history = []\n",
    "        iters = []\n",
    "        k = 0\n",
    "        for i in range(self.n_iters):\n",
    "            y_pred = self.sigmoid(np.dot(X, self.weights))\n",
    "            \n",
    "            dw = (X.T.dot(y_pred - y)) / len(y)\n",
    "            self.weights -= self.learning_rate * dw\n",
    "            c = self.cost(X, y, self.weights)\n",
    "            k += 1\n",
    "            iters.append(k)\n",
    "            cost_history.append(c)\n",
    "\n",
    "        return self.weights, cost_history, iters\n",
    "            \n",
    "    def predict(self, X):\n",
    "        X = np.hstack((np.ones((X.shape[0], 1)), X))\n",
    "        return self.sigmoid(np.dot(X, self.weights)) > 0.5  # Making categorical\n",
    "    \n",
    "    def cost(self, X, y, w):   \n",
    "        m = X.shape[0]\n",
    "\n",
    "        c = 0\n",
    "        for i in range(m):\n",
    "            z = X[i].dot(w)\n",
    "            c+= y[i]*np.log(self.sigmoid(z)) + (1-y[i])*np.log(1 - self.sigmoid(z))  # Logistic cost\n",
    "\n",
    "        return -c/m  # final cost\n",
    "    \n",
    "    def sigmoid(self, z):\n",
    "        \n",
    "        g = 1/(1 + np.exp(-z))  # Formula for the sigmoid\n",
    "        return g\n",
    "\n",
    "    def score(self, x, y):\n",
    "        y_pred = self.predict(x)\n",
    "        return (y_pred == y).sum() / len(y)"
   ]
  }
 ],
 "metadata": {
  "kernelspec": {
   "display_name": "Python 3 (ipykernel)",
   "language": "python",
   "name": "python3"
  },
  "language_info": {
   "codemirror_mode": {
    "name": "ipython",
    "version": 3
   },
   "file_extension": ".py",
   "mimetype": "text/x-python",
   "name": "python",
   "nbconvert_exporter": "python",
   "pygments_lexer": "ipython3",
   "version": "3.10.6"
  }
 },
 "nbformat": 4,
 "nbformat_minor": 5
}
