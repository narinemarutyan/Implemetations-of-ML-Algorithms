{
 "cells": [
  {
   "cell_type": "code",
   "execution_count": 1,
   "id": "6fe0eef1",
   "metadata": {},
   "outputs": [],
   "source": [
    "import numpy as np\n",
    "from scipy.stats import norm\n",
    "\n",
    "class LDA:\n",
    "    def __init__(self):\n",
    "        self.means = []\n",
    "        self.cov_mtrx = None\n",
    "        self.priors = []\n",
    "        \n",
    "    def fit(self, X, y):\n",
    "        self.cov_mtrx = np.zeros((X.shape[1], X.shape[1]))\n",
    "\n",
    "        for c in np.unique(y):\n",
    "            X_c = X[y==c]\n",
    "            self.means.append(X_c.mean(axis=0))\n",
    "            self.priors.append(len(X_c)/len(X))\n",
    "            new_diff = X_c - X_c.mean(axis=0)\n",
    "            self.cov_mtrx += new_diff.T @ new_diff\n",
    "        \n",
    "        self.cov_mtrx = self.cov_mtrx / (len(X) - len(self.means))\n",
    "        self.means = np.array(self.means)\n",
    "        self.priors = np.array(self.priors)\n",
    "        \n",
    "    def predict(self, X):\n",
    "        y_pred = []\n",
    "        for x in X:\n",
    "            y = []\n",
    "            for p, mean in zip(self.priors, self.means):\n",
    "                w1 = np.linalg.inv(self.cov_mtrx) @ mean\n",
    "                w0 = np.log(p) -0.5 * mean @ w1\n",
    "                y.append(x @ w1 + w0)\n",
    "            y_pred.append(np.argmax(y))\n",
    "        return np.array(y_pred)\n",
    "\n",
    "    def score(self, X, y):\n",
    "        return (self.predict(X)==y).sum() / len(y)\n",
    "        \n",
    "    def pdf(self, x, mean, var):\n",
    "        return norm.pdf(x, mean, var)"
   ]
  }
 ],
 "metadata": {
  "kernelspec": {
   "display_name": "Python 3 (ipykernel)",
   "language": "python",
   "name": "python3"
  },
  "language_info": {
   "codemirror_mode": {
    "name": "ipython",
    "version": 3
   },
   "file_extension": ".py",
   "mimetype": "text/x-python",
   "name": "python",
   "nbconvert_exporter": "python",
   "pygments_lexer": "ipython3",
   "version": "3.10.6"
  }
 },
 "nbformat": 4,
 "nbformat_minor": 5
}
