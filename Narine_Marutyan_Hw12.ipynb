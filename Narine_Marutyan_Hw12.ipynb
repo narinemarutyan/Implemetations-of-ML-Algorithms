{
 "cells": [
  {
   "cell_type": "code",
   "execution_count": 40,
   "id": "d0e35478",
   "metadata": {},
   "outputs": [],
   "source": [
    "import numpy as np\n",
    "import pandas as pd\n",
    "import tensorflow as tf\n",
    "import matplotlib.pyplot as plt\n",
    "from sklearn.datasets import make_regression\n",
    "from sklearn.model_selection import train_test_split\n",
    "from sklearn.preprocessing import StandardScaler"
   ]
  },
  {
   "cell_type": "markdown",
   "id": "22e72d21",
   "metadata": {},
   "source": [
    "## Task 1"
   ]
  },
  {
   "cell_type": "code",
   "execution_count": 41,
   "id": "052bf494",
   "metadata": {},
   "outputs": [],
   "source": [
    "class DenseLayer:\n",
    "    def __init__(self, neurons=64, activation='sigmoid'):\n",
    "        self.neurons = neurons\n",
    "        self.activation = activation\n",
    "        self.weights = None\n",
    "        self.biases = None\n",
    "\n",
    "    def activation_call(self, x, act, derivative=False):\n",
    "        if not derivative:\n",
    "            if act == 'sigmoid':\n",
    "                return 1 / (1 + np.exp(-x))\n",
    "            elif act == 'relu':\n",
    "                return np.maximum(0, x)\n",
    "        else:\n",
    "            if act == 'sigmoid':\n",
    "                sigmoid = 1 / (1 + np.exp(-x))\n",
    "                return sigmoid * (1 - sigmoid)\n",
    "            elif act == 'relu':\n",
    "                return np.where(x > 0, 1, 0)\n",
    "\n",
    "    def initialize_weights(self, input_size):\n",
    "        self.weights = np.random.randn(input_size, self.neurons) * 0.01\n",
    "        self.biases = np.zeros((1, self.neurons))\n",
    "\n",
    "    def forward(self, X):\n",
    "        self.input = X\n",
    "        self.z = np.dot(X, self.weights) + self.biases\n",
    "        self.output = self.activation_call(self.z, self.activation)\n",
    "        return self.output"
   ]
  },
  {
   "cell_type": "code",
   "execution_count": 42,
   "id": "1d217ab3",
   "metadata": {},
   "outputs": [],
   "source": [
    "class Densenetwork:\n",
    "    def __init__(self, lr=0.001, layers=None, epoch=10, batch_size=5):\n",
    "        self.lr = lr\n",
    "        self.layers = layers\n",
    "        self.epoch = epoch\n",
    "        self.batch_size = batch_size\n",
    "\n",
    "    def backward(self, X, y, activations, zs):\n",
    "        m = X.shape[0]\n",
    "        dA = (activations[-1] - y) / m\n",
    "        for layer in reversed(range(len(self.layers))):\n",
    "            dZ = dA * self.layers[layer].activation_call(zs[layer], self.layers[layer].activation, derivative=True)\n",
    "            dW = np.dot(activations[layer].T, dZ)\n",
    "            db = np.sum(dZ, axis=0, keepdims=True)\n",
    "            dA = np.dot(dZ, self.layers[layer].weights.T)\n",
    "            self.layers[layer].weights -= self.lr * dW / X.shape[0]\n",
    "            self.layers[layer].biases -= self.lr * db / X.shape[0]\n",
    "\n",
    "    def call(self, X, y=None, training=True):\n",
    "        if training:\n",
    "            costs = []\n",
    "            for epoch in range(self.epoch):\n",
    "                cost = 0\n",
    "                for i in range(0, X.shape[0], self.batch_size):\n",
    "                    X_batch = X[i:i+self.batch_size]\n",
    "                    y_batch = y[i:i+self.batch_size]\n",
    "                    activations = [X_batch]\n",
    "                    zs = []\n",
    "                    for layer in self.layers:\n",
    "                        if layer.weights is None:\n",
    "                            layer.initialize_weights(activations[-1].shape[1])\n",
    "                        z = layer.forward(activations[-1])\n",
    "                        zs.append(z)\n",
    "                        activations.append(z)\n",
    "                    cost += np.mean((activations[-1] - y_batch) ** 2)\n",
    "                    self.backward(X_batch, y_batch, activations, zs)\n",
    "                cost /= X.shape[0]\n",
    "                costs.append(cost)\n",
    "                print(f\"Epoch {epoch+1}/{self.epoch}, Loss: {cost}\")\n",
    "            return costs\n",
    "        else:\n",
    "            activations = [X]\n",
    "            for layer in self.layers:\n",
    "                activations.append(layer.forward(activations[-1]))\n",
    "            return activations[-1]"
   ]
  },
  {
   "cell_type": "code",
   "execution_count": 51,
   "id": "e2962a73",
   "metadata": {},
   "outputs": [],
   "source": [
    "X, y = make_regression(n_samples=100, n_features=10, noise=0.5)\n",
    "\n",
    "X_train, X_test, y_train, y_test = train_test_split(X, y, test_size=0.2)\n",
    "y_train = y_train.reshape(-1, 1)\n",
    "y_test = y_test.reshape(-1, 1)"
   ]
  },
  {
   "cell_type": "code",
   "execution_count": 52,
   "id": "454d647e",
   "metadata": {},
   "outputs": [],
   "source": [
    "layers = [DenseLayer(neurons=128, activation='relu'),\n",
    "          DenseLayer(neurons=64, activation='relu'),\n",
    "          DenseLayer(neurons=1, activation='sigmoid')]"
   ]
  },
  {
   "cell_type": "code",
   "execution_count": 53,
   "id": "cbf756dc",
   "metadata": {},
   "outputs": [
    {
     "name": "stdout",
     "output_type": "stream",
     "text": [
      "Epoch 1/100, Loss: 4588.12274637353\n",
      "Epoch 2/100, Loss: 4588.122288698594\n",
      "Epoch 3/100, Loss: 4588.121909745646\n",
      "Epoch 4/100, Loss: 4588.121564410974\n",
      "Epoch 5/100, Loss: 4588.121259473007\n",
      "Epoch 6/100, Loss: 4588.120956899127\n",
      "Epoch 7/100, Loss: 4588.120660295951\n",
      "Epoch 8/100, Loss: 4588.120355879158\n",
      "Epoch 9/100, Loss: 4588.120041263568\n",
      "Epoch 10/100, Loss: 4588.119722685898\n",
      "Epoch 11/100, Loss: 4588.1193933893355\n",
      "Epoch 12/100, Loss: 4588.119055029796\n",
      "Epoch 13/100, Loss: 4588.11868645696\n",
      "Epoch 14/100, Loss: 4588.1182886737115\n",
      "Epoch 15/100, Loss: 4588.117860619465\n",
      "Epoch 16/100, Loss: 4588.117390913778\n",
      "Epoch 17/100, Loss: 4588.116865683502\n",
      "Epoch 18/100, Loss: 4588.116277073374\n",
      "Epoch 19/100, Loss: 4588.115627554465\n",
      "Epoch 20/100, Loss: 4588.114929698497\n",
      "Epoch 21/100, Loss: 4588.114115640318\n",
      "Epoch 22/100, Loss: 4588.113213578372\n",
      "Epoch 23/100, Loss: 4588.112169878901\n",
      "Epoch 24/100, Loss: 4588.110983918373\n",
      "Epoch 25/100, Loss: 4588.109684316371\n",
      "Epoch 26/100, Loss: 4588.1081230357395\n",
      "Epoch 27/100, Loss: 4588.106319911204\n",
      "Epoch 28/100, Loss: 4588.10424856291\n",
      "Epoch 29/100, Loss: 4588.1017405162975\n",
      "Epoch 30/100, Loss: 4588.098754925138\n",
      "Epoch 31/100, Loss: 4588.095177040162\n",
      "Epoch 32/100, Loss: 4588.090876579149\n",
      "Epoch 33/100, Loss: 4588.0854728916065\n",
      "Epoch 34/100, Loss: 4588.0787816938055\n",
      "Epoch 35/100, Loss: 4588.0705027739095\n",
      "Epoch 36/100, Loss: 4588.059914160579\n",
      "Epoch 37/100, Loss: 4588.046407753068\n",
      "Epoch 38/100, Loss: 4588.028706187346\n",
      "Epoch 39/100, Loss: 4588.00521188917\n",
      "Epoch 40/100, Loss: 4587.973111406276\n",
      "Epoch 41/100, Loss: 4587.928174071564\n",
      "Epoch 42/100, Loss: 4587.8630910924185\n",
      "Epoch 43/100, Loss: 4587.766509694482\n",
      "Epoch 44/100, Loss: 4587.618586559559\n",
      "Epoch 45/100, Loss: 4587.379924671805\n",
      "Epoch 46/100, Loss: 4586.973280395542\n",
      "Epoch 47/100, Loss: 4586.234320776298\n",
      "Epoch 48/100, Loss: 4584.759755172503\n",
      "Epoch 49/100, Loss: 4581.648592854505\n",
      "Epoch 50/100, Loss: 4576.110165080373\n",
      "Epoch 51/100, Loss: 4571.77697185999\n",
      "Epoch 52/100, Loss: 4573.080658200046\n",
      "Epoch 53/100, Loss: 4576.045610743727\n",
      "Epoch 54/100, Loss: nan\n",
      "Epoch 55/100, Loss: nan\n",
      "Epoch 56/100, Loss: nan\n",
      "Epoch 57/100, Loss: nan\n",
      "Epoch 58/100, Loss: nan\n",
      "Epoch 59/100, Loss: nan\n",
      "Epoch 60/100, Loss: nan\n",
      "Epoch 61/100, Loss: nan\n",
      "Epoch 62/100, Loss: nan\n",
      "Epoch 63/100, Loss: nan\n",
      "Epoch 64/100, Loss: nan\n",
      "Epoch 65/100, Loss: nan\n",
      "Epoch 66/100, Loss: nan\n",
      "Epoch 67/100, Loss: nan\n",
      "Epoch 68/100, Loss: nan\n",
      "Epoch 69/100, Loss: nan\n",
      "Epoch 70/100, Loss: nan\n",
      "Epoch 71/100, Loss: nan\n",
      "Epoch 72/100, Loss: nan\n",
      "Epoch 73/100, Loss: nan\n",
      "Epoch 74/100, Loss: nan\n",
      "Epoch 75/100, Loss: nan\n",
      "Epoch 76/100, Loss: nan\n",
      "Epoch 77/100, Loss: nan\n",
      "Epoch 78/100, Loss: nan\n",
      "Epoch 79/100, Loss: nan\n",
      "Epoch 80/100, Loss: nan\n",
      "Epoch 81/100, Loss: nan\n",
      "Epoch 82/100, Loss: nan\n",
      "Epoch 83/100, Loss: nan\n",
      "Epoch 84/100, Loss: nan\n",
      "Epoch 85/100, Loss: nan\n",
      "Epoch 86/100, Loss: nan\n",
      "Epoch 87/100, Loss: nan\n",
      "Epoch 88/100, Loss: nan\n",
      "Epoch 89/100, Loss: nan\n",
      "Epoch 90/100, Loss: nan\n",
      "Epoch 91/100, Loss: nan\n",
      "Epoch 92/100, Loss: nan\n",
      "Epoch 93/100, Loss: nan\n",
      "Epoch 94/100, Loss: nan\n",
      "Epoch 95/100, Loss: nan\n",
      "Epoch 96/100, Loss: nan\n",
      "Epoch 97/100, Loss: nan\n",
      "Epoch 98/100, Loss: nan\n",
      "Epoch 99/100, Loss: nan\n",
      "Epoch 100/100, Loss: nan\n"
     ]
    },
    {
     "name": "stderr",
     "output_type": "stream",
     "text": [
      "/var/folders/2c/tqnsgmld3sq49_grklfs06340000gn/T/ipykernel_41313/3215607368.py:11: RuntimeWarning: overflow encountered in exp\n",
      "  return 1 / (1 + np.exp(-x))\n",
      "/var/folders/2c/tqnsgmld3sq49_grklfs06340000gn/T/ipykernel_41313/4290914221.py:12: RuntimeWarning: invalid value encountered in multiply\n",
      "  dZ = dA * self.layers[layer].activation_call(zs[layer], self.layers[layer].activation, derivative=True)\n",
      "/Users/narinemarutyan/anaconda3/lib/python3.10/site-packages/numpy/core/fromnumeric.py:86: RuntimeWarning: invalid value encountered in reduce\n",
      "  return ufunc.reduce(obj, axis, dtype, out, **passkwargs)\n"
     ]
    }
   ],
   "source": [
    "network = Densenetwork(layers=layers, lr=0.01, epoch=100, batch_size=8)\n",
    "losses = network.call(X_train, y_train)\n",
    "predictions = network.call(X_test, training=False)"
   ]
  },
  {
   "cell_type": "code",
   "execution_count": 54,
   "id": "f232a8d4",
   "metadata": {},
   "outputs": [
    {
     "data": {
      "image/png": "[encoded data removed]",
      "text/plain": [
       "<Figure size 640x480 with 1 Axes>"
      ]
     },
     "metadata": {},
     "output_type": "display_data"
    }
   ],
   "source": [
    "plt.plot(range(1, len(costs) + 1), costs)\n",
    "plt.xlabel('Epochs VS Loss')\n",
    "plt.ylabel('Loss')\n",
    "plt.title('Cost over epochs')\n",
    "plt.grid(visible=True)\n",
    "plt.show()"
   ]
  },
  {
   "cell_type": "markdown",
   "id": "c4f41e5e",
   "metadata": {},
   "source": [
    "## Task 2"
   ]
  },
  {
   "cell_type": "code",
   "execution_count": 48,
   "id": "5be515b1",
   "metadata": {},
   "outputs": [],
   "source": [
    "class CustomDenseLayer(tf.Module):\n",
    "    def __init__(self, input_dim, output_dim, activation=None):\n",
    "        super(CustomDenseLayer, self).__init__()\n",
    "        self.weights = tf.Variable(tf.random.normal([input_dim, output_dim]))\n",
    "        self.biases = tf.Variable(tf.random.normal([output_dim]))\n",
    "        self.activation = activation\n",
    "\n",
    "    def __call__(self, x):\n",
    "        z = tf.matmul(x, self.weights) + self.biases\n",
    "        if self.activation == 'relu':\n",
    "            return tf.nn.relu(z)\n",
    "        elif self.activation == 'sigmoid':\n",
    "            return tf.nn.sigmoid(z)\n",
    "        else:\n",
    "            return z\n",
    "\n",
    "    def get_trainable_variables(self):\n",
    "        return [self.weights, self.biases]"
   ]
  },
  {
   "cell_type": "code",
   "execution_count": 49,
   "id": "b9a19df1",
   "metadata": {},
   "outputs": [],
   "source": [
    "class CustomDenseNetwork(tf.Module):\n",
    "    def __init__(self, input_dim, hidden_units, output_units, activations):\n",
    "        super(CustomDenseNetwork, self).__init__()\n",
    "        self.layers = []\n",
    "        self.activations = activations\n",
    "        for i, units in enumerate(hidden_units):\n",
    "            layer = CustomDenseLayer(input_dim, units, activation=activations[i])\n",
    "            self.layers.append(layer)\n",
    "            input_dim = units\n",
    "\n",
    "   \n",
    "        self.output_layer = CustomDenseLayer(input_dim, output_units, activation=activations[-1])\n",
    "\n",
    "    def __call__(self, x):\n",
    "        for layer in self.layers:\n",
    "            x = layer(x)\n",
    "        return self.output_layer(x)\n",
    "\n",
    "    def get_trainable_variables(self):\n",
    "        trainable_variables = []\n",
    "        for layer in self.layers:\n",
    "            trainable_variables.extend(layer.get_trainable_variables())\n",
    "        trainable_variables.extend(self.output_layer.get_trainable_variables())\n",
    "        return trainable_variables\n"
   ]
  },
  {
   "cell_type": "code",
   "execution_count": 55,
   "id": "2395389b",
   "metadata": {},
   "outputs": [
    {
     "name": "stdout",
     "output_type": "stream",
     "text": [
      "tf.Tensor(\n",
      "[[0.3043629 ]\n",
      " [0.27082145]], shape=(2, 1), dtype=float32)\n"
     ]
    }
   ],
   "source": [
    "input_dim = 2\n",
    "hidden_units = [4, 3]\n",
    "output_units = 1\n",
    "activations = ['relu', 'relu', 'sigmoid']\n",
    "tfn = CustomNetwork(input_dim, hidden_units, output_units, activations)\n",
    "\n",
    "opt = tf.constant([[0.2, 0.4], [0.6, 0.8]])\n",
    "print(tfn(opt))"
   ]
  },
  {
   "cell_type": "code",
   "execution_count": null,
   "id": "9b43d056",
   "metadata": {},
   "outputs": [],
   "source": []
  },
  {
   "cell_type": "code",
   "execution_count": null,
   "id": "4115d9c6",
   "metadata": {},
   "outputs": [],
   "source": []
  },
  {
   "cell_type": "code",
   "execution_count": null,
   "id": "aba0fb9c",
   "metadata": {},
   "outputs": [],
   "source": []
  }
 ],
 "metadata": {
  "kernelspec": {
   "display_name": "Python 3 (ipykernel)",
   "language": "python",
   "name": "python3"
  },
  "language_info": {
   "codemirror_mode": {
    "name": "ipython",
    "version": 3
   },
   "file_extension": ".py",
   "mimetype": "text/x-python",
   "name": "python",
   "nbconvert_exporter": "python",
   "pygments_lexer": "ipython3",
   "version": "3.10.9"
  }
 },
 "nbformat": 4,
 "nbformat_minor": 5
}
