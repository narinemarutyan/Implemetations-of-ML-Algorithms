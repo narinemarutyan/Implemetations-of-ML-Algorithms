{
 "cells": [
  {
   "cell_type": "code",
   "execution_count": 1,
   "id": "d84f7316",
   "metadata": {},
   "outputs": [],
   "source": [
    "import math\n",
    "import numpy as np\n",
    "\n",
    "class Naive_Bayes:\n",
    "    def __init__(self, df, y_colname):\n",
    "        self.df = df\n",
    "        self.y_colname = y_colname\n",
    "    \n",
    "    \n",
    "    def predict(self):\n",
    "    \n",
    "        features = list(self.df.loc[:, self.df.columns != 'default'])\n",
    "    \n",
    "        prior = self.prior_prob(self.df, self.y_colname)\n",
    "    \n",
    "        y_pred = []\n",
    "        X_train = pd.DataFrame(self.df.drop(\"default\", axis=1)).values\n",
    "        for obs in X_train:\n",
    "            labels = sorted(list(self.df[self.y_colname].unique()))\n",
    "            likelihood = [1]*len(labels)\n",
    "            for i in range(len(labels)):\n",
    "                for j in range(len(features)):\n",
    "                    likelihood[i] *= self.likelihood_proba(self.df, features[j], obs[j], self.y_colname, labels[i])\n",
    "                \n",
    "                \n",
    "            post_proba = [1]*len(labels)\n",
    "            for i in range(len(labels)):\n",
    "\n",
    "                post_proba[i] = likelihood[i] * prior[i]\n",
    "            \n",
    "        \n",
    "            y_pred.append(np.argmax(post_proba))\n",
    "    \n",
    "    \n",
    "        return np.array(y_pred)  \n",
    "    \n",
    "    def prior_prob(self, df, y_colname):\n",
    "        classes = df[y_colname].unique()\n",
    "        prior_probas = []\n",
    "        for i in classes:\n",
    "            prior_probas.append(len(df.loc[df[y_colname] == i])/len(df))\n",
    "        return prior_probas\n",
    "    \n",
    "    def likelihood_proba(self, df, feature_colname, feature_value, y_colname, y_label):\n",
    "        new_df = df.loc[df[y_colname] == y_label]\n",
    "        mean = np.mean(new_df[feature_colname])\n",
    "        std = np.std(new_df[feature_colname])\n",
    "        posterior = (1/np.sqrt(2*(std**2)*math.pi)) * np.exp((-(feature_value - mean)**2)/(2*(std**2)))\n",
    "        return posterior"
   ]
  }
 ],
 "metadata": {
  "kernelspec": {
   "display_name": "Python 3 (ipykernel)",
   "language": "python",
   "name": "python3"
  },
  "language_info": {
   "codemirror_mode": {
    "name": "ipython",
    "version": 3
   },
   "file_extension": ".py",
   "mimetype": "text/x-python",
   "name": "python",
   "nbconvert_exporter": "python",
   "pygments_lexer": "ipython3",
   "version": "3.10.6"
  }
 },
 "nbformat": 4,
 "nbformat_minor": 5
}
